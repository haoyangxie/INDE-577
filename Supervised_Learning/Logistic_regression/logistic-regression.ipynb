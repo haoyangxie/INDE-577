{
 "cells": [
  {
   "cell_type": "markdown",
   "metadata": {},
   "source": [
    "# Logistic Regression\n",
    "\n",
    "\n",
    "Logistic Regression algorithm works by implementing a linear equation with independent or explanatory variables to predict a response value. For example, we consider the example of number of hours studied and probability of passing the exam. Here, number of hours studied is the explanatory variable and it is denoted by x1. Probability of passing the exam is the response or target variable and it is denoted by z.\n",
    "\n",
    "\n",
    "If we have one explanatory variable (x1) and one response variable (z), then the linear equation would be given mathematically with the following equation:"
   ]
  },
  {
   "cell_type": "markdown",
   "metadata": {},
   "source": [
    "\\\\[Z = \\beta_0 + \\beta_1X_1\\\\]"
   ]
  },
  {
   "cell_type": "markdown",
   "metadata": {},
   "source": [
    "Here, the coefficients β0 and β1 are the parameters of the model.\n",
    "\n",
    "\n",
    "If there are multiple explanatory variables, then the above equation can be extended to\n"
   ]
  },
  {
   "cell_type": "markdown",
   "metadata": {},
   "source": [
    "\\\\[Z = \\beta_0 + \\beta_1X_1 + \\beta_1X_2 + ... + \\beta_nX_n\\\\]"
   ]
  },
  {
   "cell_type": "markdown",
   "metadata": {},
   "source": [
    "Here, the coefficients β0, β1, β2 and βn are the parameters of the model.\n",
    "\n",
    "So, the predicted response value is given by the above equations and is denoted by Z."
   ]
  },
  {
   "cell_type": "markdown",
   "metadata": {},
   "source": [
    "## **Sigmoid Function**\n",
    "\n",
    "This predicted response value, denoted by z is then converted into a probability value that lie between 0 and 1. We use the sigmoid function in order to map predicted values to probability values. This sigmoid function then maps any real value into a probability value between 0 and 1.\n",
    "\n",
    "In machine learning, sigmoid function is used to map predictions to probabilities. The sigmoid function has an S shaped curve. It is also called sigmoid curve.\n",
    "\n",
    "A Sigmoid function is a special case of the Logistic function. It is given by the following mathematical formula.\n",
    "\n",
    "Graphically, we can represent sigmoid function with the following graph."
   ]
  },
  {
   "cell_type": "markdown",
   "metadata": {},
   "source": [
    "## Sigmoid Function\n",
    "\n",
    "![Sigmoid Function](https://miro.medium.com/max/970/1*Xu7B5y9gp0iL5ooBj7LtWw.png)"
   ]
  },
  {
   "cell_type": "markdown",
   "metadata": {},
   "source": [
    "## **Decision boundary**\n",
    "\n",
    "The sigmoid function returns a probability value between 0 and 1. This probability value is then mapped to a discrete class which is either “0” or “1”. In order to map this probability value to a discrete class (pass/fail, yes/no, true/false), we select a threshold value. This threshold value is called Decision boundary. Above this threshold value, we will map the probability values into class 1 and below which we will map values into class 0.\n",
    "\n",
    "Mathematically, it can be expressed as follows:-\n",
    "\n",
    "p ≥ 0.5 => class = 1\n",
    "\n",
    "p < 0.5 => class = 0 \n",
    "\n",
    "Generally, the decision boundary is set to 0.5. So, if the probability value is 0.8 (> 0.5), we will map this observation to class 1. Similarly, if the probability value is 0.2 (< 0.5), we will map this observation to class 0. This is represented in the graph below-"
   ]
  },
  {
   "cell_type": "markdown",
   "metadata": {},
   "source": [
    "![Decision boundary in sigmoid function](https://ml-cheatsheet.readthedocs.io/en/latest/_images/logistic_regression_sigmoid_w_threshold.png)"
   ]
  },
  {
   "cell_type": "markdown",
   "metadata": {},
   "source": [
    "## **Making predictions**\n",
    "\n",
    "Now, we know about sigmoid function and decision boundary in logistic regression. We can use our knowledge of sigmoid function and decision boundary to write a prediction function. A prediction function in logistic regression returns the probability of the observation being positive, Yes or True. We call this as class 1 and it is denoted by P(class = 1). If the probability inches closer to one, then we will be more confident about our model that the observation is in class 1, otherwise it is in class 0.\n"
   ]
  },
  {
   "cell_type": "markdown",
   "metadata": {},
   "source": [
    "## Assumptions of Logistic Regression\n",
    "\n",
    "The Logistic Regression model requires several key assumptions. These are as follows:-\n",
    "\n",
    "1. Logistic Regression model requires the dependent variable to be binary, multinomial or ordinal in nature.\n",
    "\n",
    "2. It requires the observations to be independent of each other. So, the observations should not come from repeated measurements.\n",
    "\n",
    "3. Logistic Regression algorithm requires little or no multicollinearity among the independent variables. It means that the independent variables should not be too highly correlated with each other.\n",
    "\n",
    "4. Logistic Regression model assumes linearity of independent variables and log odds.\n",
    "\n",
    "5. The success of Logistic Regression model depends on the sample sizes. Typically, it requires a large sample size to achieve the high accuracy."
   ]
  },
  {
   "cell_type": "code",
   "execution_count": 1,
   "metadata": {
    "_cell_guid": "b1076dfc-b9ad-4769-8c92-a6c4dae69d19",
    "_uuid": "8f2839f25d086af736a60e9eeb907d3b93b6e0e5",
    "execution": {
     "iopub.execute_input": "2021-02-25T12:07:42.771497Z",
     "iopub.status.busy": "2021-02-25T12:07:42.770770Z",
     "iopub.status.idle": "2021-02-25T12:07:43.910559Z",
     "shell.execute_reply": "2021-02-25T12:07:43.909687Z"
    },
    "papermill": {
     "duration": 1.156397,
     "end_time": "2021-02-25T12:07:43.910813",
     "exception": false,
     "start_time": "2021-02-25T12:07:42.754416",
     "status": "completed"
    },
    "tags": []
   },
   "outputs": [],
   "source": [
    "import numpy as np\n",
    "np.set_printoptions(suppress=True)\n",
    "import matplotlib.pyplot as plt\n",
    "import pandas as pd\n",
    "from sklearn.preprocessing import MinMaxScaler\n",
    "from sklearn.model_selection import train_test_split\n",
    "from sklearn.metrics import accuracy_score\n",
    "from sklearn.linear_model import LogisticRegression"
   ]
  },
  {
   "cell_type": "code",
   "execution_count": 2,
   "metadata": {
    "execution": {
     "iopub.execute_input": "2021-02-25T12:07:43.933202Z",
     "iopub.status.busy": "2021-02-25T12:07:43.932419Z",
     "iopub.status.idle": "2021-02-25T12:07:43.982275Z",
     "shell.execute_reply": "2021-02-25T12:07:43.981692Z"
    },
    "papermill": {
     "duration": 0.062787,
     "end_time": "2021-02-25T12:07:43.982448",
     "exception": false,
     "start_time": "2021-02-25T12:07:43.919661",
     "status": "completed"
    },
    "tags": []
   },
   "outputs": [
    {
     "data": {
      "text/html": [
       "<div>\n",
       "<style scoped>\n",
       "    .dataframe tbody tr th:only-of-type {\n",
       "        vertical-align: middle;\n",
       "    }\n",
       "\n",
       "    .dataframe tbody tr th {\n",
       "        vertical-align: top;\n",
       "    }\n",
       "\n",
       "    .dataframe thead th {\n",
       "        text-align: right;\n",
       "    }\n",
       "</style>\n",
       "<table border=\"1\" class=\"dataframe\">\n",
       "  <thead>\n",
       "    <tr style=\"text-align: right;\">\n",
       "      <th></th>\n",
       "      <th>User ID</th>\n",
       "      <th>Gender</th>\n",
       "      <th>Age</th>\n",
       "      <th>EstimatedSalary</th>\n",
       "      <th>Purchased</th>\n",
       "    </tr>\n",
       "  </thead>\n",
       "  <tbody>\n",
       "    <tr>\n",
       "      <th>0</th>\n",
       "      <td>15624510</td>\n",
       "      <td>Male</td>\n",
       "      <td>19</td>\n",
       "      <td>19000</td>\n",
       "      <td>0</td>\n",
       "    </tr>\n",
       "    <tr>\n",
       "      <th>1</th>\n",
       "      <td>15810944</td>\n",
       "      <td>Male</td>\n",
       "      <td>35</td>\n",
       "      <td>20000</td>\n",
       "      <td>0</td>\n",
       "    </tr>\n",
       "    <tr>\n",
       "      <th>2</th>\n",
       "      <td>15668575</td>\n",
       "      <td>Female</td>\n",
       "      <td>26</td>\n",
       "      <td>43000</td>\n",
       "      <td>0</td>\n",
       "    </tr>\n",
       "    <tr>\n",
       "      <th>3</th>\n",
       "      <td>15603246</td>\n",
       "      <td>Female</td>\n",
       "      <td>27</td>\n",
       "      <td>57000</td>\n",
       "      <td>0</td>\n",
       "    </tr>\n",
       "    <tr>\n",
       "      <th>4</th>\n",
       "      <td>15804002</td>\n",
       "      <td>Male</td>\n",
       "      <td>19</td>\n",
       "      <td>76000</td>\n",
       "      <td>0</td>\n",
       "    </tr>\n",
       "    <tr>\n",
       "      <th>...</th>\n",
       "      <td>...</td>\n",
       "      <td>...</td>\n",
       "      <td>...</td>\n",
       "      <td>...</td>\n",
       "      <td>...</td>\n",
       "    </tr>\n",
       "    <tr>\n",
       "      <th>395</th>\n",
       "      <td>15691863</td>\n",
       "      <td>Female</td>\n",
       "      <td>46</td>\n",
       "      <td>41000</td>\n",
       "      <td>1</td>\n",
       "    </tr>\n",
       "    <tr>\n",
       "      <th>396</th>\n",
       "      <td>15706071</td>\n",
       "      <td>Male</td>\n",
       "      <td>51</td>\n",
       "      <td>23000</td>\n",
       "      <td>1</td>\n",
       "    </tr>\n",
       "    <tr>\n",
       "      <th>397</th>\n",
       "      <td>15654296</td>\n",
       "      <td>Female</td>\n",
       "      <td>50</td>\n",
       "      <td>20000</td>\n",
       "      <td>1</td>\n",
       "    </tr>\n",
       "    <tr>\n",
       "      <th>398</th>\n",
       "      <td>15755018</td>\n",
       "      <td>Male</td>\n",
       "      <td>36</td>\n",
       "      <td>33000</td>\n",
       "      <td>0</td>\n",
       "    </tr>\n",
       "    <tr>\n",
       "      <th>399</th>\n",
       "      <td>15594041</td>\n",
       "      <td>Female</td>\n",
       "      <td>49</td>\n",
       "      <td>36000</td>\n",
       "      <td>1</td>\n",
       "    </tr>\n",
       "  </tbody>\n",
       "</table>\n",
       "<p>400 rows × 5 columns</p>\n",
       "</div>"
      ],
      "text/plain": [
       "      User ID  Gender  Age  EstimatedSalary  Purchased\n",
       "0    15624510    Male   19            19000          0\n",
       "1    15810944    Male   35            20000          0\n",
       "2    15668575  Female   26            43000          0\n",
       "3    15603246  Female   27            57000          0\n",
       "4    15804002    Male   19            76000          0\n",
       "..        ...     ...  ...              ...        ...\n",
       "395  15691863  Female   46            41000          1\n",
       "396  15706071    Male   51            23000          1\n",
       "397  15654296  Female   50            20000          1\n",
       "398  15755018    Male   36            33000          0\n",
       "399  15594041  Female   49            36000          1\n",
       "\n",
       "[400 rows x 5 columns]"
      ]
     },
     "execution_count": 2,
     "metadata": {},
     "output_type": "execute_result"
    }
   ],
   "source": [
    "df = pd.read_csv(\"dataset/Social_Network_Ads.csv\")\n",
    "df"
   ]
  },
  {
   "cell_type": "code",
   "execution_count": 5,
   "metadata": {
    "execution": {
     "iopub.execute_input": "2021-02-25T12:07:44.015389Z",
     "iopub.status.busy": "2021-02-25T12:07:44.014449Z",
     "iopub.status.idle": "2021-02-25T12:07:44.019083Z",
     "shell.execute_reply": "2021-02-25T12:07:44.018416Z"
    },
    "papermill": {
     "duration": 0.027482,
     "end_time": "2021-02-25T12:07:44.019248",
     "exception": false,
     "start_time": "2021-02-25T12:07:43.991766",
     "status": "completed"
    },
    "tags": []
   },
   "outputs": [
    {
     "data": {
      "text/html": [
       "<div>\n",
       "<style scoped>\n",
       "    .dataframe tbody tr th:only-of-type {\n",
       "        vertical-align: middle;\n",
       "    }\n",
       "\n",
       "    .dataframe tbody tr th {\n",
       "        vertical-align: top;\n",
       "    }\n",
       "\n",
       "    .dataframe thead th {\n",
       "        text-align: right;\n",
       "    }\n",
       "</style>\n",
       "<table border=\"1\" class=\"dataframe\">\n",
       "  <thead>\n",
       "    <tr style=\"text-align: right;\">\n",
       "      <th></th>\n",
       "      <th>User ID</th>\n",
       "      <th>Gender</th>\n",
       "      <th>Age</th>\n",
       "      <th>EstimatedSalary</th>\n",
       "      <th>Purchased</th>\n",
       "    </tr>\n",
       "  </thead>\n",
       "  <tbody>\n",
       "    <tr>\n",
       "      <th>0</th>\n",
       "      <td>15624510</td>\n",
       "      <td>1</td>\n",
       "      <td>19</td>\n",
       "      <td>19000</td>\n",
       "      <td>0</td>\n",
       "    </tr>\n",
       "    <tr>\n",
       "      <th>1</th>\n",
       "      <td>15810944</td>\n",
       "      <td>1</td>\n",
       "      <td>35</td>\n",
       "      <td>20000</td>\n",
       "      <td>0</td>\n",
       "    </tr>\n",
       "    <tr>\n",
       "      <th>2</th>\n",
       "      <td>15668575</td>\n",
       "      <td>0</td>\n",
       "      <td>26</td>\n",
       "      <td>43000</td>\n",
       "      <td>0</td>\n",
       "    </tr>\n",
       "    <tr>\n",
       "      <th>3</th>\n",
       "      <td>15603246</td>\n",
       "      <td>0</td>\n",
       "      <td>27</td>\n",
       "      <td>57000</td>\n",
       "      <td>0</td>\n",
       "    </tr>\n",
       "    <tr>\n",
       "      <th>4</th>\n",
       "      <td>15804002</td>\n",
       "      <td>1</td>\n",
       "      <td>19</td>\n",
       "      <td>76000</td>\n",
       "      <td>0</td>\n",
       "    </tr>\n",
       "  </tbody>\n",
       "</table>\n",
       "</div>"
      ],
      "text/plain": [
       "    User ID  Gender  Age  EstimatedSalary  Purchased\n",
       "0  15624510       1   19            19000          0\n",
       "1  15810944       1   35            20000          0\n",
       "2  15668575       0   26            43000          0\n",
       "3  15603246       0   27            57000          0\n",
       "4  15804002       1   19            76000          0"
      ]
     },
     "execution_count": 5,
     "metadata": {},
     "output_type": "execute_result"
    }
   ],
   "source": [
    "# 1 for Male - 0 for Female\n",
    "df['Gender'].replace(to_replace=['Male','Female'], value=[1,0],inplace=True)\n",
    "df.head(5)"
   ]
  },
  {
   "cell_type": "code",
   "execution_count": 6,
   "metadata": {
    "execution": {
     "iopub.execute_input": "2021-02-25T12:07:44.052913Z",
     "iopub.status.busy": "2021-02-25T12:07:44.052160Z",
     "iopub.status.idle": "2021-02-25T12:07:44.056468Z",
     "shell.execute_reply": "2021-02-25T12:07:44.056947Z"
    },
    "papermill": {
     "duration": 0.026805,
     "end_time": "2021-02-25T12:07:44.057189",
     "exception": false,
     "start_time": "2021-02-25T12:07:44.030384",
     "status": "completed"
    },
    "tags": []
   },
   "outputs": [
    {
     "data": {
      "text/html": [
       "<div>\n",
       "<style scoped>\n",
       "    .dataframe tbody tr th:only-of-type {\n",
       "        vertical-align: middle;\n",
       "    }\n",
       "\n",
       "    .dataframe tbody tr th {\n",
       "        vertical-align: top;\n",
       "    }\n",
       "\n",
       "    .dataframe thead th {\n",
       "        text-align: right;\n",
       "    }\n",
       "</style>\n",
       "<table border=\"1\" class=\"dataframe\">\n",
       "  <thead>\n",
       "    <tr style=\"text-align: right;\">\n",
       "      <th></th>\n",
       "      <th>User ID</th>\n",
       "      <th>Gender</th>\n",
       "      <th>Age</th>\n",
       "      <th>EstimatedSalary</th>\n",
       "      <th>Purchased</th>\n",
       "    </tr>\n",
       "  </thead>\n",
       "  <tbody>\n",
       "    <tr>\n",
       "      <th>105</th>\n",
       "      <td>15801658</td>\n",
       "      <td>1</td>\n",
       "      <td>21</td>\n",
       "      <td>72000</td>\n",
       "      <td>0</td>\n",
       "    </tr>\n",
       "    <tr>\n",
       "      <th>234</th>\n",
       "      <td>15619407</td>\n",
       "      <td>0</td>\n",
       "      <td>38</td>\n",
       "      <td>112000</td>\n",
       "      <td>0</td>\n",
       "    </tr>\n",
       "    <tr>\n",
       "      <th>338</th>\n",
       "      <td>15810800</td>\n",
       "      <td>0</td>\n",
       "      <td>38</td>\n",
       "      <td>55000</td>\n",
       "      <td>0</td>\n",
       "    </tr>\n",
       "    <tr>\n",
       "      <th>221</th>\n",
       "      <td>15663161</td>\n",
       "      <td>1</td>\n",
       "      <td>35</td>\n",
       "      <td>91000</td>\n",
       "      <td>1</td>\n",
       "    </tr>\n",
       "    <tr>\n",
       "      <th>261</th>\n",
       "      <td>15680587</td>\n",
       "      <td>1</td>\n",
       "      <td>36</td>\n",
       "      <td>144000</td>\n",
       "      <td>1</td>\n",
       "    </tr>\n",
       "  </tbody>\n",
       "</table>\n",
       "</div>"
      ],
      "text/plain": [
       "      User ID  Gender  Age  EstimatedSalary  Purchased\n",
       "105  15801658       1   21            72000          0\n",
       "234  15619407       0   38           112000          0\n",
       "338  15810800       0   38            55000          0\n",
       "221  15663161       1   35            91000          1\n",
       "261  15680587       1   36           144000          1"
      ]
     },
     "execution_count": 6,
     "metadata": {},
     "output_type": "execute_result"
    }
   ],
   "source": [
    "# Now shuffle the dataframe\n",
    "df = df.sample(frac=1)\n",
    "df.head(5)"
   ]
  },
  {
   "cell_type": "code",
   "execution_count": 7,
   "metadata": {
    "execution": {
     "iopub.execute_input": "2021-02-25T12:07:44.102214Z",
     "iopub.status.busy": "2021-02-25T12:07:44.085546Z",
     "iopub.status.idle": "2021-02-25T12:07:44.384813Z",
     "shell.execute_reply": "2021-02-25T12:07:44.384180Z"
    },
    "papermill": {
     "duration": 0.317144,
     "end_time": "2021-02-25T12:07:44.384995",
     "exception": false,
     "start_time": "2021-02-25T12:07:44.067851",
     "status": "completed"
    },
    "tags": []
   },
   "outputs": [
    {
     "data": {
      "text/plain": [
       "<matplotlib.collections.PathCollection at 0x7fc131d588b0>"
      ]
     },
     "execution_count": 7,
     "metadata": {},
     "output_type": "execute_result"
    },
    {
     "data": {
      "image/png": "[encoded data removed]",
      "text/plain": [
       "<Figure size 432x288 with 1 Axes>"
      ]
     },
     "metadata": {
      "needs_background": "light"
     },
     "output_type": "display_data"
    }
   ],
   "source": [
    "plt.scatter(x=df['Age'],y=df['EstimatedSalary'],c=df['Purchased'])"
   ]
  },
  {
   "cell_type": "code",
   "execution_count": 8,
   "metadata": {
    "execution": {
     "iopub.execute_input": "2021-02-25T12:07:44.425711Z",
     "iopub.status.busy": "2021-02-25T12:07:44.424544Z",
     "iopub.status.idle": "2021-02-25T12:07:44.428286Z",
     "shell.execute_reply": "2021-02-25T12:07:44.427407Z"
    },
    "papermill": {
     "duration": 0.029821,
     "end_time": "2021-02-25T12:07:44.428480",
     "exception": false,
     "start_time": "2021-02-25T12:07:44.398659",
     "status": "completed"
    },
    "tags": []
   },
   "outputs": [],
   "source": [
    "#Normalize the data\n",
    "sc=MinMaxScaler()\n",
    "df_n=sc.fit_transform(df[['Gender','Age','EstimatedSalary']])\n",
    "X_train,X_test,y_train,y_test = train_test_split(df_n,df['Purchased'])"
   ]
  },
  {
   "cell_type": "code",
   "execution_count": 9,
   "metadata": {
    "execution": {
     "iopub.execute_input": "2021-02-25T12:07:44.467982Z",
     "iopub.status.busy": "2021-02-25T12:07:44.467255Z",
     "iopub.status.idle": "2021-02-25T12:07:44.472357Z",
     "shell.execute_reply": "2021-02-25T12:07:44.471725Z"
    },
    "papermill": {
     "duration": 0.030152,
     "end_time": "2021-02-25T12:07:44.472536",
     "exception": false,
     "start_time": "2021-02-25T12:07:44.442384",
     "status": "completed"
    },
    "tags": []
   },
   "outputs": [],
   "source": [
    "#Cost Function\n",
    "def cost_function(X, Y, theta):                 \n",
    "    z = X @ theta\n",
    "    predict_1 = (-Y * np.log(sigmoid(z)))\n",
    "    predict_0 = (1 - Y) * np.log(1 - sigmoid(z))\n",
    "    return sum(predict_1 - predict_0)/len(Y)\n",
    "\n",
    "# Logistic Function\n",
    "def sigmoid(x):\n",
    "    return (1)/(1+np.exp(-x))\n",
    "\n",
    "# Time to Learn\n",
    "def learn(X,Y,alpha=1,epoch=1000):\n",
    "    X = np.column_stack(([1]*X.shape[0],X))\n",
    "    theta = np.zeros((X.shape[1]))\n",
    "    ll=[]\n",
    "    for e in range(epoch):\n",
    "        hx = sigmoid((X @ theta))\n",
    "        theta -= alpha*(X.T @ (hx-Y))/len(X)\n",
    "        ll.append(cost_function(X,Y,theta))\n",
    "    return ll,theta\n",
    "\n",
    "# Time to predict\n",
    "def predict(X,theta):\n",
    "    X = np.column_stack(([1]*X.shape[0],X))\n",
    "    return [(1 if i>0.5 else 0) for i in sigmoid((X@theta))]"
   ]
  },
  {
   "cell_type": "code",
   "execution_count": 10,
   "metadata": {
    "execution": {
     "iopub.execute_input": "2021-02-25T12:07:44.505250Z",
     "iopub.status.busy": "2021-02-25T12:07:44.504501Z",
     "iopub.status.idle": "2021-02-25T12:07:45.849783Z",
     "shell.execute_reply": "2021-02-25T12:07:45.849214Z"
    },
    "papermill": {
     "duration": 1.364364,
     "end_time": "2021-02-25T12:07:45.849948",
     "exception": false,
     "start_time": "2021-02-25T12:07:44.485584",
     "status": "completed"
    },
    "tags": []
   },
   "outputs": [
    {
     "name": "stdout",
     "output_type": "stream",
     "text": [
      "accuracy_score:: 0.88\n"
     ]
    }
   ],
   "source": [
    "ll,theta = learn(X_train,y_train)\n",
    "y_predict = predict(X_test,theta)\n",
    "print(\"accuracy_score::\",accuracy_score(y_test,y_predict))"
   ]
  },
  {
   "cell_type": "code",
   "execution_count": 11,
   "metadata": {
    "execution": {
     "iopub.execute_input": "2021-02-25T12:07:45.912059Z",
     "iopub.status.busy": "2021-02-25T12:07:45.908518Z",
     "iopub.status.idle": "2021-02-25T12:07:46.070161Z",
     "shell.execute_reply": "2021-02-25T12:07:46.070710Z"
    },
    "papermill": {
     "duration": 0.205715,
     "end_time": "2021-02-25T12:07:46.070922",
     "exception": false,
     "start_time": "2021-02-25T12:07:45.865207",
     "status": "completed"
    },
    "tags": []
   },
   "outputs": [
    {
     "data": {
      "image/png": "[encoded data removed]",
      "text/plain": [
       "<Figure size 432x288 with 1 Axes>"
      ]
     },
     "metadata": {
      "needs_background": "light"
     },
     "output_type": "display_data"
    }
   ],
   "source": [
    "# cost function minimized\n",
    "plt.plot(range(len(ll)),ll)\n",
    "plt.xlabel(\"iteration\")\n",
    "plt.ylabel(\"cost function\")\n",
    "plt.show()"
   ]
  },
  {
   "cell_type": "code",
   "execution_count": 12,
   "metadata": {
    "execution": {
     "iopub.execute_input": "2021-02-25T12:07:46.106331Z",
     "iopub.status.busy": "2021-02-25T12:07:46.105138Z",
     "iopub.status.idle": "2021-02-25T12:07:46.283231Z",
     "shell.execute_reply": "2021-02-25T12:07:46.283791Z"
    },
    "papermill": {
     "duration": 0.197796,
     "end_time": "2021-02-25T12:07:46.283993",
     "exception": false,
     "start_time": "2021-02-25T12:07:46.086197",
     "status": "completed"
    },
    "tags": []
   },
   "outputs": [
    {
     "data": {
      "image/png": "[encoded data removed]",
      "text/plain": [
       "<Figure size 432x288 with 1 Axes>"
      ]
     },
     "metadata": {
      "needs_background": "light"
     },
     "output_type": "display_data"
    }
   ],
   "source": [
    "b = theta[0]\n",
    "w1, w2 = theta[2],theta[3]\n",
    "\n",
    "c = -b/w2\n",
    "m=-w1/w2\n",
    "\n",
    "xmin, xmax = -0.1, 1.1\n",
    "ymin, ymax = -0.1,1.1\n",
    "xd = np.array([xmin, xmax])\n",
    "yd = m*xd + c\n",
    "\n",
    "y_test_color = ['orange' if i==1 else 'teal' for i in y_test]\n",
    "    \n",
    "\n",
    "plt.plot(xd, yd, 'k', lw=1, ls='--')\n",
    "plt.fill_between(xd, yd, ymin, color='tab:cyan', alpha=0.2)\n",
    "plt.fill_between(xd, yd, ymax, color='tab:orange', alpha=0.2)\n",
    "plt.scatter(x=X_test.T[1],y=X_test.T[2],c=y_test_color)\n",
    "plt.xlim(xmin, xmax)\n",
    "plt.ylim(ymin, ymax)\n",
    "plt.show()"
   ]
  }
 ],
 "metadata": {
  "kernelspec": {
   "display_name": "Python 3",
   "language": "python",
   "name": "python3"
  },
  "language_info": {
   "codemirror_mode": {
    "name": "ipython",
    "version": 3
   },
   "file_extension": ".py",
   "mimetype": "text/x-python",
   "name": "python",
   "nbconvert_exporter": "python",
   "pygments_lexer": "ipython3",
   "version": "3.8.8"
  },
  "papermill": {
   "default_parameters": {},
   "duration": 10.521868,
   "end_time": "2021-02-25T12:07:47.050456",
   "environment_variables": {},
   "exception": null,
   "input_path": "__notebook__.ipynb",
   "output_path": "__notebook__.ipynb",
   "parameters": {},
   "start_time": "2021-02-25T12:07:36.528588",
   "version": "2.2.2"
  }
 },
 "nbformat": 4,
 "nbformat_minor": 4
}
